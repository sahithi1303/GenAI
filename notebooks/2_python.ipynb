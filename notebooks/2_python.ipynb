{
 "cells": [
  {
   "cell_type": "code",
   "execution_count": 1,
   "id": "ffaa6612",
   "metadata": {},
   "outputs": [
    {
     "name": "stdout",
     "output_type": "stream",
     "text": [
      "Random number: 28\n",
      "\n",
      "Generating 10 random numbers between 1 and 100:\n",
      "Number 1: 13\n",
      "Number 2: 22\n",
      "Number 3: 31\n",
      "Number 4: 93\n",
      "Number 5: 2\n",
      "Number 6: 89\n",
      "Number 7: 100\n",
      "Number 8: 68\n",
      "Number 9: 70\n",
      "Number 10: 85\n",
      "\n",
      "List of 5 random numbers: [29, 100, 96, 81, 15]\n"
     ]
    }
   ],
   "source": [
    "import random\n",
    "\n",
    "# Generate a single random number between 1 and 100\n",
    "random_number = random.randint(1, 100)\n",
    "print(f\"Random number: {random_number}\")\n",
    "\n",
    "# Generate 10 random numbers between 1 and 100\n",
    "print(\"\\nGenerating 10 random numbers between 1 and 100:\")\n",
    "for i in range(10):\n",
    "    number = random.randint(1, 100)\n",
    "    print(f\"Number {i+1}: {number}\")\n",
    "\n",
    "# If you want to generate a list of random numbers\n",
    "random_numbers = [random.randint(1, 100) for _ in range(5)]\n",
    "print(\"\\nList of 5 random numbers:\", random_numbers)"
   ]
  },
  {
   "cell_type": "code",
   "execution_count": 6,
   "id": "9b44fbb7",
   "metadata": {},
   "outputs": [
    {
     "name": "stdout",
     "output_type": "stream",
     "text": [
      "This\n",
      "is\n",
      "a\n",
      "demonstration\n",
      "of\n",
      "displaying\n",
      "words\n",
      "one\n",
      "by\n",
      "one\n",
      "from\n",
      "a\n",
      "sentence.\n"
     ]
    }
   ],
   "source": [
    "import time\n",
    "\n",
    "def display_word_by_word(sentence, delay=0.5):\n",
    "    \"\"\"\n",
    "    Display a sentence word by word with each word on a separate line\n",
    "    and a specified delay between each word.\n",
    "    \n",
    "    Parameters:\n",
    "    -----------\n",
    "    sentence : str\n",
    "        The sentence to display word by word\n",
    "    delay : float, optional\n",
    "        The delay in seconds between displaying each word (default is 0.5)\n",
    "    \"\"\"\n",
    "    words = sentence.split()\n",
    "    \n",
    "    for word in words:\n",
    "        print(word)  # Print each word on a separate line\n",
    "        time.sleep(delay)\n",
    "\n",
    "# Example usage\n",
    "if __name__ == \"__main__\":\n",
    "    test_sentence = \"This is a demonstration of displaying words one by one from a sentence.\"\n",
    "    display_word_by_word(test_sentence)\n",
    "    \n",
    "    # You can also try with a different delay\n",
    "    # display_word_by_word(test_sentence, delay=0.2)\n"
   ]
  }
 ],
 "metadata": {
  "kernelspec": {
   "display_name": "Python 3",
   "language": "python",
   "name": "python3"
  },
  "language_info": {
   "codemirror_mode": {
    "name": "ipython",
    "version": 3
   },
   "file_extension": ".py",
   "mimetype": "text/x-python",
   "name": "python",
   "nbconvert_exporter": "python",
   "pygments_lexer": "ipython3",
   "version": "3.11.11"
  }
 },
 "nbformat": 4,
 "nbformat_minor": 5
}
